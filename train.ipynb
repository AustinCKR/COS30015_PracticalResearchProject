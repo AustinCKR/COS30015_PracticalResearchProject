{
 "cells": [
  {
   "cell_type": "markdown",
   "id": "e3e9109d",
   "metadata": {},
   "source": [
    "## Import Required Libraries"
   ]
  },
  {
   "cell_type": "code",
   "execution_count": 1,
   "id": "c9a47d61",
   "metadata": {},
   "outputs": [
    {
     "name": "stdout",
     "output_type": "stream",
     "text": [
      "TF version: 2.10.0\n",
      "GPUs: [PhysicalDevice(name='/physical_device:GPU:0', device_type='GPU')]\n"
     ]
    }
   ],
   "source": [
    "import os\n",
    "import numpy as np\n",
    "import re\n",
    "import random\n",
    "import pickle\n",
    "from email import policy\n",
    "from email.parser import BytesParser\n",
    "from bs4 import BeautifulSoup\n",
    "import seaborn as sns\n",
    "import matplotlib.pyplot as plt\n",
    "import tensorflow as tf\n",
    "from sklearn.model_selection import train_test_split\n",
    "from sklearn.utils.class_weight import compute_class_weight\n",
    "from sklearn.metrics import confusion_matrix, classification_report, f1_score\n",
    "from tensorflow.keras.preprocessing.text import Tokenizer\n",
    "from tensorflow.keras.preprocessing.sequence import pad_sequences\n",
    "from tensorflow.keras.models import Sequential, Model\n",
    "from tensorflow.keras.callbacks import EarlyStopping\n",
    "from tensorflow.keras.regularizers import l2\n",
    "from tensorflow.keras.layers import Input, Embedding, SpatialDropout1D, Conv1D, GlobalMaxPooling1D, Dense, Dropout\n",
    "from tensorflow.keras.optimizers import Adam\n",
    "\n",
    "# Set the environment variable to suppress TensorFlow warnings\n",
    "print(\"TF version:\", tf.__version__)\n",
    "print(\"GPUs:\", tf.config.list_physical_devices('GPU'))\n",
    "\n",
    "# Set random seeds for reproducibility\n",
    "random.seed(42)\n",
    "np.random.seed(42)\n",
    "tf.random.set_seed(42)"
   ]
  },
  {
   "cell_type": "markdown",
   "id": "d42a5b28",
   "metadata": {},
   "source": [
    "## Load and Preprocess Dataset"
   ]
  },
  {
   "cell_type": "markdown",
   "id": "d37316b5",
   "metadata": {},
   "source": [
    "### Preprocess and Load Email Functions"
   ]
  },
  {
   "cell_type": "code",
   "execution_count": 2,
   "id": "17d4eee1",
   "metadata": {},
   "outputs": [],
   "source": [
    "# Safely get text from email parts\n",
    "def safe_get_text(part):\n",
    "    try:\n",
    "        return part.get_content()\n",
    "    except LookupError:\n",
    "        raw = part.get_payload(decode=True) or b''\n",
    "        # Try declared charset, else utf-8, then latin-1\n",
    "        charset = part.get_content_charset() or 'utf-8'\n",
    "        try:\n",
    "            return raw.decode(charset, errors='ignore')\n",
    "        except (LookupError, UnicodeDecodeError):\n",
    "            return raw.decode('latin-1', errors='ignore')\n",
    "\n",
    "# Replace links with <URL> in the text\n",
    "def replace_links(text):\n",
    "    # Pattern for http(s):// or www. links\n",
    "    text = re.sub(r'https?://\\S+|www\\.\\S+', '<URL>', text)\n",
    "    # Pattern for bare domains like example.com/path\n",
    "    text = re.sub(\n",
    "        r'\\b[\\w.-]+\\.(com|org|net|edu|gov|io|co)(/[^\\s]*)?\\b',\n",
    "        '<URL>',\n",
    "        text\n",
    "    )\n",
    "    return text\n",
    "\n",
    "# Extract email text from the message\n",
    "def extract_email_text(msg):\n",
    "    parts = []\n",
    "    # Subject\n",
    "    if msg['Subject']:\n",
    "        parts.append(str(msg['Subject']))\n",
    "    # Body (plain + HTML, cleaned)\n",
    "    for part in msg.walk():\n",
    "        content_type = part.get_content_type()\n",
    "        if content_type == 'text/plain':\n",
    "            parts.append(safe_get_text(part))\n",
    "        elif content_type == 'text/html':\n",
    "            html = safe_get_text(part)\n",
    "            soup = BeautifulSoup(html, \"html.parser\")\n",
    "            parts.append(soup.get_text())\n",
    "    # Join, lowercase, clean up whitespace\n",
    "    text = ' '.join(parts).lower()\n",
    "    text = re.sub(r\"\\s+\", \" \", text)\n",
    "\n",
    "    # Replace links with <URL>\n",
    "    text = replace_links(text)\n",
    "    \n",
    "    return text.strip()\n",
    "\n",
    "# Load emails from a folder and assign a label\n",
    "def load_emails(folder, label):\n",
    "    texts, labels = [], []\n",
    "    for fname in os.listdir(folder):\n",
    "        path = os.path.join(folder, fname)\n",
    "        with open(path, 'rb') as f:\n",
    "            msg = BytesParser(policy=policy.default).parse(f)\n",
    "        # Use the improved extraction function!\n",
    "        text = extract_email_text(msg)\n",
    "        texts.append(text)\n",
    "        labels.append(label)\n",
    "    return texts, labels\n",
    "\n"
   ]
  },
  {
   "cell_type": "markdown",
   "id": "da330e61",
   "metadata": {},
   "source": [
    "### Load Dataset"
   ]
  },
  {
   "cell_type": "code",
   "execution_count": 3,
   "id": "80f4173a",
   "metadata": {},
   "outputs": [],
   "source": [
    "# Load normal and spam emails\n",
    "X_norm, y_norm = load_emails('data/normal', 0)\n",
    "X_spam, y_spam = load_emails('data/spam', 1)\n",
    "X = X_norm + X_spam\n",
    "y = np.array(y_norm + y_spam)"
   ]
  },
  {
   "cell_type": "markdown",
   "id": "22ead677",
   "metadata": {},
   "source": [
    "### Split Dataset"
   ]
  },
  {
   "cell_type": "code",
   "execution_count": 4,
   "id": "aae8a289",
   "metadata": {},
   "outputs": [],
   "source": [
    "# Split the data into training and test sets\n",
    "X_train, X_test, y_train, y_test = train_test_split(\n",
    "    X, y,\n",
    "    test_size=0.2,        # 80/20 split\n",
    "    stratify=y,           # preserve spam∶ham ratio\n",
    "    random_state=42\n",
    ")"
   ]
  },
  {
   "cell_type": "markdown",
   "id": "aaf6fa4f",
   "metadata": {},
   "source": [
    "## Finding Optimal Tokenizer Parameters"
   ]
  },
  {
   "cell_type": "code",
   "execution_count": null,
   "id": "3ac6e81e",
   "metadata": {},
   "outputs": [
    {
     "name": "stdout",
     "output_type": "stream",
     "text": [
      "Total unique tokens in train: 54033\n",
      "50th percentile length: 159.0\n",
      "75th percentile length: 286.0\n",
      "90th percentile length: 580.4000000000005\n",
      "95th percentile length: 990.1999999999998\n",
      "99th percentile length: 2684.879999999992\n",
      "12062 words cover 90% of all tokens\n"
     ]
    }
   ],
   "source": [
    "# Fit a full tokenizer just to inspect raw training data\n",
    "full_tokenizer = Tokenizer(oov_token=\"<OOV>\")\n",
    "full_tokenizer.fit_on_texts(X_train)\n",
    "\n",
    "# Find the number of unique tokens\n",
    "true_vocab_size = len(full_tokenizer.word_index)\n",
    "print(\"Total unique tokens in train:\", true_vocab_size)\n",
    "\n",
    "# Find distribution of sequence lengths\n",
    "seqs   = full_tokenizer.texts_to_sequences(X_train)\n",
    "lengths = [len(s) for s in seqs]\n",
    "for p in [50, 75, 90, 95, 99]:\n",
    "    print(f\"{p}th percentile length:\", np.percentile(lengths, p))\n",
    "\n",
    "# Find the number of words that cover 90% of all tokens\n",
    "word_counts  = full_tokenizer.word_counts\n",
    "total_tokens = sum(word_counts.values())\n",
    "cumulative   = 0\n",
    "for i, (_, cnt) in enumerate(word_counts.items(), 1):\n",
    "    cumulative += cnt\n",
    "    if cumulative / total_tokens > 0.90:\n",
    "        print(f\"{i} words cover 90% of all tokens\")\n",
    "        break\n"
   ]
  },
  {
   "cell_type": "markdown",
   "id": "873b53cb",
   "metadata": {},
   "source": [
    "## Model Training"
   ]
  },
  {
   "cell_type": "markdown",
   "id": "dc5d86e3",
   "metadata": {},
   "source": [
    "### Configure Model"
   ]
  },
  {
   "cell_type": "code",
   "execution_count": 6,
   "id": "db2c00c1",
   "metadata": {},
   "outputs": [
    {
     "name": "stdout",
     "output_type": "stream",
     "text": [
      "{0: 0.7217592592592592, 1: 1.6273486430062631}\n",
      "Model: \"model\"\n",
      "_________________________________________________________________\n",
      " Layer (type)                Output Shape              Param #   \n",
      "=================================================================\n",
      " input_1 (InputLayer)        [(None, 600)]             0         \n",
      "                                                                 \n",
      " embedding (Embedding)       (None, 600, 128)          1536000   \n",
      "                                                                 \n",
      " spatial_dropout1d (SpatialD  (None, 600, 128)         0         \n",
      " ropout1D)                                                       \n",
      "                                                                 \n",
      " conv1d (Conv1D)             (None, 596, 64)           41024     \n",
      "                                                                 \n",
      " global_max_pooling1d (Globa  (None, 64)               0         \n",
      " lMaxPooling1D)                                                  \n",
      "                                                                 \n",
      " dense (Dense)               (None, 64)                4160      \n",
      "                                                                 \n",
      " dropout (Dropout)           (None, 64)                0         \n",
      "                                                                 \n",
      " dense_1 (Dense)             (None, 1)                 65        \n",
      "                                                                 \n",
      "=================================================================\n",
      "Total params: 1,581,249\n",
      "Trainable params: 1,581,249\n",
      "Non-trainable params: 0\n",
      "_________________________________________________________________\n"
     ]
    }
   ],
   "source": [
    "# Use the 90th percentile length as the max_len and the number of words that cover 90% of all tokens as max_words\n",
    "max_words = 12000\n",
    "max_len = 600\n",
    "\n",
    "# Compute class weights\n",
    "weights = compute_class_weight(\n",
    "    class_weight='balanced',\n",
    "    classes=np.unique(y_train),\n",
    "    y=y_train\n",
    ")\n",
    "class_weight = {0: weights[0], 1: weights[1]}\n",
    "print(class_weight)  \n",
    "\n",
    "# Tokenize the text\n",
    "tokenizer = Tokenizer(num_words=max_words, oov_token=\"<OOV>\")\n",
    "tokenizer.fit_on_texts(X_train)\n",
    "\n",
    "# Save the tokenizer for later use\n",
    "with open('tokenizer.pkl', 'wb') as f:\n",
    "    pickle.dump(tokenizer, f)\n",
    "\n",
    "# Load the tokenizer from the file\n",
    "X_train_seq = tokenizer.texts_to_sequences(X_train)\n",
    "X_train_pad = pad_sequences(X_train_seq, maxlen=max_len, padding='post', truncating='post')\n",
    "X_test_seq = tokenizer.texts_to_sequences(X_test)\n",
    "X_test_pad = pad_sequences(X_test_seq, maxlen=max_len, padding='post', truncating='post')\n",
    "\n",
    "# Define the model\n",
    "# Use a Sequential model\n",
    "inp = Input((max_len,))\n",
    "x = Embedding(max_words, 128, input_length=max_len)(inp)\n",
    "x = SpatialDropout1D(0.3)(x)\n",
    "\n",
    "# Conv1D layer with reduced units\n",
    "x = Conv1D(64, 5, activation='relu', kernel_regularizer=l2(1e-3))(x)\n",
    "x = GlobalMaxPooling1D()(x)\n",
    "\n",
    "# Dense layer with reduced units\n",
    "x = Dense(64, activation='relu', kernel_regularizer=l2(1e-3))(x)\n",
    "x = Dropout(0.5)(x)\n",
    "\n",
    "out = Dense(1, activation='sigmoid')(x)\n",
    "\n",
    "# Compile the model\n",
    "model = Model(inp, out)\n",
    "model.compile(\n",
    "    loss='binary_crossentropy',\n",
    "    optimizer=Adam(1e-4),\n",
    "    metrics=['accuracy']\n",
    ")\n",
    "\n",
    "# Show the model summary\n",
    "model.summary()\n"
   ]
  },
  {
   "cell_type": "markdown",
   "id": "48d9a89c",
   "metadata": {},
   "source": [
    "### Model Training"
   ]
  },
  {
   "cell_type": "code",
   "execution_count": 7,
   "id": "89e371e0",
   "metadata": {},
   "outputs": [
    {
     "name": "stdout",
     "output_type": "stream",
     "text": [
      "Epoch 1/50\n",
      "147/147 [==============================] - 9s 19ms/step - loss: 0.8275 - accuracy: 0.4836 - val_loss: 0.8100 - val_accuracy: 0.7179\n",
      "Epoch 2/50\n",
      "147/147 [==============================] - 2s 15ms/step - loss: 0.7778 - accuracy: 0.7156 - val_loss: 0.7390 - val_accuracy: 0.8957\n",
      "Epoch 3/50\n",
      "147/147 [==============================] - 2s 14ms/step - loss: 0.6825 - accuracy: 0.8450 - val_loss: 0.6018 - val_accuracy: 0.9154\n",
      "Epoch 4/50\n",
      "147/147 [==============================] - 2s 14ms/step - loss: 0.5285 - accuracy: 0.9081 - val_loss: 0.4380 - val_accuracy: 0.9385\n",
      "Epoch 5/50\n",
      "147/147 [==============================] - 2s 15ms/step - loss: 0.4050 - accuracy: 0.9354 - val_loss: 0.3508 - val_accuracy: 0.9496\n",
      "Epoch 6/50\n",
      "147/147 [==============================] - 2s 14ms/step - loss: 0.3235 - accuracy: 0.9457 - val_loss: 0.2966 - val_accuracy: 0.9573\n",
      "Epoch 7/50\n",
      "147/147 [==============================] - 2s 14ms/step - loss: 0.2744 - accuracy: 0.9570 - val_loss: 0.2565 - val_accuracy: 0.9650\n",
      "Epoch 8/50\n",
      "147/147 [==============================] - 3s 17ms/step - loss: 0.2365 - accuracy: 0.9666 - val_loss: 0.2376 - val_accuracy: 0.9641\n",
      "Epoch 9/50\n",
      "147/147 [==============================] - 2s 14ms/step - loss: 0.2145 - accuracy: 0.9724 - val_loss: 0.2178 - val_accuracy: 0.9667\n",
      "Epoch 10/50\n",
      "147/147 [==============================] - 3s 17ms/step - loss: 0.1902 - accuracy: 0.9763 - val_loss: 0.1997 - val_accuracy: 0.9709\n",
      "Epoch 11/50\n",
      "147/147 [==============================] - 2s 15ms/step - loss: 0.1731 - accuracy: 0.9816 - val_loss: 0.1922 - val_accuracy: 0.9735\n",
      "Epoch 12/50\n",
      "147/147 [==============================] - 2s 16ms/step - loss: 0.1601 - accuracy: 0.9844 - val_loss: 0.1832 - val_accuracy: 0.9726\n",
      "Epoch 13/50\n",
      "147/147 [==============================] - 2s 17ms/step - loss: 0.1473 - accuracy: 0.9876 - val_loss: 0.1773 - val_accuracy: 0.9735\n",
      "Epoch 14/50\n",
      "147/147 [==============================] - 3s 19ms/step - loss: 0.1396 - accuracy: 0.9900 - val_loss: 0.1688 - val_accuracy: 0.9735\n",
      "Epoch 15/50\n",
      "147/147 [==============================] - 3s 17ms/step - loss: 0.1298 - accuracy: 0.9908 - val_loss: 0.1671 - val_accuracy: 0.9744\n",
      "Epoch 16/50\n",
      "147/147 [==============================] - 3s 18ms/step - loss: 0.1231 - accuracy: 0.9925 - val_loss: 0.1604 - val_accuracy: 0.9744\n",
      "Epoch 17/50\n",
      "147/147 [==============================] - 2s 15ms/step - loss: 0.1165 - accuracy: 0.9927 - val_loss: 0.1553 - val_accuracy: 0.9761\n",
      "Epoch 18/50\n",
      "147/147 [==============================] - 2s 15ms/step - loss: 0.1102 - accuracy: 0.9942 - val_loss: 0.1523 - val_accuracy: 0.9752\n",
      "Epoch 19/50\n",
      "147/147 [==============================] - 2s 14ms/step - loss: 0.1052 - accuracy: 0.9955 - val_loss: 0.1461 - val_accuracy: 0.9786\n",
      "Epoch 20/50\n",
      "147/147 [==============================] - 2s 16ms/step - loss: 0.0993 - accuracy: 0.9959 - val_loss: 0.1436 - val_accuracy: 0.9786\n",
      "Epoch 21/50\n",
      "147/147 [==============================] - 2s 15ms/step - loss: 0.0929 - accuracy: 0.9962 - val_loss: 0.1386 - val_accuracy: 0.9786\n",
      "Epoch 22/50\n",
      "147/147 [==============================] - 2s 16ms/step - loss: 0.0893 - accuracy: 0.9972 - val_loss: 0.1368 - val_accuracy: 0.9786\n",
      "Epoch 23/50\n",
      "147/147 [==============================] - 2s 14ms/step - loss: 0.0866 - accuracy: 0.9964 - val_loss: 0.1340 - val_accuracy: 0.9786\n",
      "Epoch 24/50\n",
      "147/147 [==============================] - 2s 14ms/step - loss: 0.0829 - accuracy: 0.9981 - val_loss: 0.1322 - val_accuracy: 0.9786\n",
      "Epoch 25/50\n",
      "147/147 [==============================] - 2s 15ms/step - loss: 0.0786 - accuracy: 0.9972 - val_loss: 0.1268 - val_accuracy: 0.9795\n",
      "Epoch 26/50\n",
      "147/147 [==============================] - 2s 15ms/step - loss: 0.0766 - accuracy: 0.9985 - val_loss: 0.1246 - val_accuracy: 0.9795\n",
      "Epoch 27/50\n",
      "147/147 [==============================] - 3s 21ms/step - loss: 0.0720 - accuracy: 0.9985 - val_loss: 0.1211 - val_accuracy: 0.9795\n",
      "Epoch 28/50\n",
      "147/147 [==============================] - 2s 16ms/step - loss: 0.0687 - accuracy: 0.9989 - val_loss: 0.1222 - val_accuracy: 0.9795\n",
      "Epoch 29/50\n",
      "147/147 [==============================] - 2s 14ms/step - loss: 0.0668 - accuracy: 0.9983 - val_loss: 0.1182 - val_accuracy: 0.9803\n",
      "Epoch 30/50\n",
      "147/147 [==============================] - 2s 14ms/step - loss: 0.0640 - accuracy: 0.9989 - val_loss: 0.1146 - val_accuracy: 0.9812\n",
      "Epoch 31/50\n",
      "147/147 [==============================] - 2s 15ms/step - loss: 0.0606 - accuracy: 0.9996 - val_loss: 0.1119 - val_accuracy: 0.9812\n",
      "Epoch 32/50\n",
      "147/147 [==============================] - 2s 14ms/step - loss: 0.0594 - accuracy: 0.9987 - val_loss: 0.1115 - val_accuracy: 0.9812\n",
      "Epoch 33/50\n",
      "147/147 [==============================] - 2s 15ms/step - loss: 0.0576 - accuracy: 0.9987 - val_loss: 0.1085 - val_accuracy: 0.9812\n",
      "Epoch 34/50\n",
      "147/147 [==============================] - 2s 14ms/step - loss: 0.0538 - accuracy: 0.9994 - val_loss: 0.1062 - val_accuracy: 0.9812\n",
      "Epoch 35/50\n",
      "147/147 [==============================] - 2s 14ms/step - loss: 0.0523 - accuracy: 0.9991 - val_loss: 0.1060 - val_accuracy: 0.9812\n",
      "Epoch 36/50\n",
      "147/147 [==============================] - 2s 14ms/step - loss: 0.0501 - accuracy: 0.9998 - val_loss: 0.1031 - val_accuracy: 0.9803\n",
      "Epoch 37/50\n",
      "147/147 [==============================] - 2s 14ms/step - loss: 0.0480 - accuracy: 0.9994 - val_loss: 0.0999 - val_accuracy: 0.9812\n",
      "Epoch 38/50\n",
      "147/147 [==============================] - 2s 14ms/step - loss: 0.0462 - accuracy: 1.0000 - val_loss: 0.0997 - val_accuracy: 0.9803\n",
      "Epoch 39/50\n",
      "147/147 [==============================] - 2s 13ms/step - loss: 0.0447 - accuracy: 0.9998 - val_loss: 0.0994 - val_accuracy: 0.9803\n",
      "Epoch 40/50\n",
      "147/147 [==============================] - 2s 13ms/step - loss: 0.0429 - accuracy: 0.9996 - val_loss: 0.0965 - val_accuracy: 0.9812\n",
      "Epoch 41/50\n",
      "147/147 [==============================] - 2s 14ms/step - loss: 0.0416 - accuracy: 0.9998 - val_loss: 0.0967 - val_accuracy: 0.9786\n",
      "Epoch 42/50\n",
      "147/147 [==============================] - 2s 15ms/step - loss: 0.0404 - accuracy: 0.9998 - val_loss: 0.0961 - val_accuracy: 0.9795\n",
      "Epoch 43/50\n",
      "147/147 [==============================] - 2s 17ms/step - loss: 0.0386 - accuracy: 0.9998 - val_loss: 0.0961 - val_accuracy: 0.9786\n",
      "Epoch 44/50\n",
      "147/147 [==============================] - 2s 15ms/step - loss: 0.0364 - accuracy: 0.9998 - val_loss: 0.0935 - val_accuracy: 0.9795\n",
      "Epoch 45/50\n",
      "147/147 [==============================] - 2s 15ms/step - loss: 0.0357 - accuracy: 1.0000 - val_loss: 0.0932 - val_accuracy: 0.9795\n",
      "Epoch 46/50\n",
      "147/147 [==============================] - 2s 15ms/step - loss: 0.0340 - accuracy: 1.0000 - val_loss: 0.0917 - val_accuracy: 0.9803\n",
      "Epoch 47/50\n",
      "147/147 [==============================] - 2s 14ms/step - loss: 0.0333 - accuracy: 0.9998 - val_loss: 0.0909 - val_accuracy: 0.9812\n",
      "Epoch 48/50\n",
      "147/147 [==============================] - 2s 13ms/step - loss: 0.0318 - accuracy: 0.9998 - val_loss: 0.0920 - val_accuracy: 0.9786\n",
      "Epoch 49/50\n",
      "147/147 [==============================] - 2s 12ms/step - loss: 0.0312 - accuracy: 1.0000 - val_loss: 0.0899 - val_accuracy: 0.9812\n",
      "Epoch 50/50\n",
      "147/147 [==============================] - 2s 12ms/step - loss: 0.0295 - accuracy: 0.9998 - val_loss: 0.0893 - val_accuracy: 0.9812\n"
     ]
    }
   ],
   "source": [
    "# Early stopping and training\n",
    "early_stopping = EarlyStopping(monitor='val_loss', patience=3, restore_best_weights=True)\n",
    "history = model.fit(\n",
    "    X_train_pad, y_train,\n",
    "    validation_data=(X_test_pad, y_test),\n",
    "    epochs=50,\n",
    "    batch_size=32,\n",
    "    callbacks=[early_stopping],\n",
    "    class_weight=class_weight\n",
    ")"
   ]
  },
  {
   "cell_type": "markdown",
   "id": "342c0b4d",
   "metadata": {},
   "source": [
    "## Model Evaluation"
   ]
  },
  {
   "cell_type": "markdown",
   "id": "8570b4f8",
   "metadata": {},
   "source": [
    "### Find Best Threshold Value"
   ]
  },
  {
   "cell_type": "code",
   "execution_count": 8,
   "id": "d432d75f",
   "metadata": {},
   "outputs": [
    {
     "name": "stdout",
     "output_type": "stream",
     "text": [
      "37/37 [==============================] - 0s 2ms/step\n",
      "Best threshold: 0.62 with F1-score: 0.9708\n",
      "              precision    recall  f1-score   support\n",
      "\n",
      "         Ham       0.99      0.99      0.99       810\n",
      "        Spam       0.97      0.97      0.97       360\n",
      "\n",
      "    accuracy                           0.98      1170\n",
      "   macro avg       0.98      0.98      0.98      1170\n",
      "weighted avg       0.98      0.98      0.98      1170\n",
      "\n"
     ]
    }
   ],
   "source": [
    "# Get predicted probabilities for the test set\n",
    "y_probs = model.predict(X_test_pad).flatten()\n",
    "\n",
    "# Try many thresholds and find the best for F1-score\n",
    "thresholds = np.arange(0.1, 0.91, 0.01)\n",
    "best_f1 = 0\n",
    "best_thresh = 0.5\n",
    "\n",
    "for thresh in thresholds:\n",
    "    y_pred = (y_probs > thresh).astype(int)\n",
    "    f1 = f1_score(y_test, y_pred)\n",
    "    if f1 > best_f1:\n",
    "        best_f1 = f1\n",
    "        best_thresh = thresh\n",
    "\n",
    "print(f\"Best threshold: {best_thresh:.2f} with F1-score: {best_f1:.4f}\")\n",
    "\n",
    "# Detailed report at the best threshold\n",
    "y_pred_best = (y_probs > best_thresh).astype(int)\n",
    "print(classification_report(y_test, y_pred_best, target_names=['Ham', 'Spam']))\n"
   ]
  },
  {
   "cell_type": "markdown",
   "id": "5ec2f8ac",
   "metadata": {},
   "source": [
    "### Confusion Matrix"
   ]
  },
  {
   "cell_type": "code",
   "execution_count": 9,
   "id": "e64e02c6",
   "metadata": {},
   "outputs": [
    {
     "name": "stdout",
     "output_type": "stream",
     "text": [
      "37/37 [==============================] - 0s 4ms/step\n",
      "Confusion Matrix:\n",
      " [[800  10]\n",
      " [ 11 349]]\n",
      "\n",
      "Classification Report:\n",
      "               precision    recall  f1-score   support\n",
      "\n",
      "           0     0.9864    0.9877    0.9870       810\n",
      "           1     0.9721    0.9694    0.9708       360\n",
      "\n",
      "    accuracy                         0.9821      1170\n",
      "   macro avg     0.9793    0.9785    0.9789      1170\n",
      "weighted avg     0.9820    0.9821    0.9820      1170\n",
      "\n"
     ]
    },
    {
     "data": {
      "image/png": "[encoded data removed]",
      "text/plain": [
       "<Figure size 500x400 with 2 Axes>"
      ]
     },
     "metadata": {},
     "output_type": "display_data"
    }
   ],
   "source": [
    "# Get raw probabilities\n",
    "y_pred_prob = model.predict(X_test_pad).ravel()\n",
    "\n",
    "# Apply that threshold (instead of hard-coded 0.5)\n",
    "y_pred = (y_pred_prob > best_thresh).astype(int)\n",
    "\n",
    "# Confusion matrix & report\n",
    "cm = confusion_matrix(y_test, y_pred)\n",
    "print(\"Confusion Matrix:\\n\", cm)\n",
    "print(\"\\nClassification Report:\\n\", classification_report(y_test, y_pred, digits=4))\n",
    "\n",
    "# Plot the confusion matrix\n",
    "plt.figure(figsize=(5,4))\n",
    "sns.heatmap(cm, annot=True, fmt='d', cmap='Blues',\n",
    "            xticklabels=['Ham','Spam'], yticklabels=['Ham','Spam'])\n",
    "plt.xlabel('Predicted label')\n",
    "plt.ylabel('True label')\n",
    "plt.title('Confusion Matrix')\n",
    "plt.show()\n"
   ]
  },
  {
   "cell_type": "markdown",
   "id": "2756f22e",
   "metadata": {},
   "source": [
    "## Dump Model"
   ]
  },
  {
   "cell_type": "code",
   "execution_count": 10,
   "id": "ecd3ca46",
   "metadata": {},
   "outputs": [
    {
     "name": "stderr",
     "output_type": "stream",
     "text": [
      "WARNING:absl:Found untraced functions such as _jit_compiled_convolution_op while saving (showing 1 of 1). These functions will not be directly callable after loading.\n"
     ]
    },
    {
     "name": "stdout",
     "output_type": "stream",
     "text": [
      "INFO:tensorflow:Assets written to: spam_cnn_saved_model\\assets\n"
     ]
    },
    {
     "name": "stderr",
     "output_type": "stream",
     "text": [
      "INFO:tensorflow:Assets written to: spam_cnn_saved_model\\assets\n"
     ]
    }
   ],
   "source": [
    "model.save('spam_cnn_saved_model')"
   ]
  }
 ],
 "metadata": {
  "kernelspec": {
   "display_name": "tf_env",
   "language": "python",
   "name": "python3"
  },
  "language_info": {
   "codemirror_mode": {
    "name": "ipython",
    "version": 3
   },
   "file_extension": ".py",
   "mimetype": "text/x-python",
   "name": "python",
   "nbconvert_exporter": "python",
   "pygments_lexer": "ipython3",
   "version": "3.10.14"
  }
 },
 "nbformat": 4,
 "nbformat_minor": 5
}
